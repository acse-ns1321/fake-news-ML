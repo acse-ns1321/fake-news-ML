{
 "cells": [
  {
   "cell_type": "markdown",
   "metadata": {},
   "source": [
    "# Ackley Function"
   ]
  },
  {
   "cell_type": "markdown",
   "metadata": {},
   "source": [
    "The [Ackley](https://en.wikipedia.org/wiki/Ackley_function) function is a common test problem for optimization problems with many local minima:\n",
    "\\begin{equation*}\n",
    "f(x, y)= -20 exp [-0.2\\sqrt{0.5(x^2+y^2)}]-exp[0.5\\{cos(2 \\pi x) + cos(2 \\pi y)\\}]+ e +20\n",
    "\\end{equation*}\n",
    "\n",
    "In the following problem tasks we will use pytorch to evaluate this function numerically and study its behavior under common gradient descent techniques.\n",
    "\n",
    "Topics to cover:\n",
    "\n",
    "- DefineACkley as a python function\n",
    "- "
   ]
  },
  {
   "cell_type": "code",
   "execution_count": null,
   "metadata": {},
   "outputs": [],
   "source": [
    "# Plotting the Ackley Function using Numpy"
   ]
  }
 ],
 "metadata": {
  "kernelspec": {
   "display_name": "Python 3 (ipykernel)",
   "language": "python",
   "name": "python3"
  },
  "language_info": {
   "codemirror_mode": {
    "name": "ipython",
    "version": 3
   },
   "file_extension": ".py",
   "mimetype": "text/x-python",
   "name": "python",
   "nbconvert_exporter": "python",
   "pygments_lexer": "ipython3",
   "version": "3.10.1"
  }
 },
 "nbformat": 4,
 "nbformat_minor": 2
}
