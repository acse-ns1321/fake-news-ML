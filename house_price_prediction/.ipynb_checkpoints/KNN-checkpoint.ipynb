{
 "cells": [
  {
   "cell_type": "markdown",
   "metadata": {},
   "source": [
    "# K MEANS\n",
    "\n",
    "- elbow method to find the correct K\n",
    "\n",
    "- create the k model\n",
    "- standardization for a correct K value\n",
    "- fit the model\n",
    "- predict the values"
   ]
  },
  {
   "cell_type": "code",
   "execution_count": 27,
   "metadata": {},
   "outputs": [],
   "source": [
    "# KNN on House Prices\n",
    "import pandas as pd # for manipulating tabular data\n",
    "import matplotlib.pyplot as plt # for visualisation\n",
    "import seaborn as sns # for user friendly visualisation\n",
    "import numpy as np # for numerical python functionality\n",
    "\n",
    "from sklearn.linear_model import LinearRegression # implementation of linear regression\n",
    "from sklearn.model_selection import train_test_split # for creating a train and test set\n",
    "from sklearn.metrics import mean_absolute_error, mean_squared_error, r2_score # for evaluating our model"
   ]
  },
  {
   "cell_type": "code",
   "execution_count": 28,
   "metadata": {},
   "outputs": [],
   "source": [
    "# to scale our data so that we can perform \"sensible\" clustering\n",
    "from sklearn.preprocessing import StandardScaler\n",
    "\n",
    "# to provide an implementation of the k-means algorithm\n",
    "from sklearn.cluster import KMeans"
   ]
  },
  {
   "cell_type": "code",
   "execution_count": 29,
   "metadata": {},
   "outputs": [],
   "source": [
    "# ----------------------------------------------------------\n",
    "# Read and pre-process data\n",
    "# ----------------------------------------------------------\n",
    "# Read the data from the csv file into a pandas dataframe \n",
    "houses = pd.read_csv('Houseprices.csv')\n",
    "\n",
    "# Select numerical values for num\n",
    "houses_num = houses.select_dtypes(include = 'number')\n",
    "\n",
    "# ----------------------------------------------------------\n",
    "# Deal with missing values\n",
    "# ----------------------------------------------------------\n",
    "# Drop Lot Frontage whicch has the highest missing values\n",
    "# houses_num.isna().sum().sort_values(ascending=False).head()\n",
    "houses_num = houses_num.drop('LotFrontage', axis=1)\n",
    "# Drop all rows containing the remaining missing values \n",
    "houses_num = houses_num.dropna()\n",
    "\n",
    "# ----------------------------------------------------------\n",
    "# Select the features\n",
    "# ----------------------------------------------------------\n",
    "\n",
    "# Select the 9 most highly correlated parameters to be our features- excluding itself\n",
    "X = houses_num[houses_num.corr()['SalePrice'].abs().sort_values(ascending = False)[1:10].index.to_list()]\n",
    "# Target variable\n",
    "y = houses_num[\"SalePrice\"]\n",
    "\n",
    "# ----------------------------------------------------------\n",
    "# Train test split\n",
    "# ----------------------------------------------------------\n",
    "# Perform a train-test split\n",
    "X_train, X_test, y_train, y_test  = train_test_split(X,y,test_size=0.2,random_state = 42)\n",
    "\n",
    "# ----------------------------------------------------------\n",
    "# Build the model : Linear Regression\n",
    "# ----------------------------------------------------------\n",
    "\n",
    "# instantiate a model\n",
    "model = LinearRegression()\n",
    "\n",
    "# fit the model\n",
    "model.fit(X, y)\n",
    "\n",
    "# ----------------------------------------------------------\n",
    "# Predict : Predict the output using the test set\n",
    "# ----------------------------------------------------------\n",
    "# Generate predictions for the test set\n",
    "y_pred = model.predict(X_test)"
   ]
  },
  {
   "cell_type": "markdown",
   "metadata": {},
   "source": [
    "# ELBOW METHOD"
   ]
  },
  {
   "cell_type": "code",
   "execution_count": 30,
   "metadata": {},
   "outputs": [],
   "source": [
    "# Create a list of k values\n",
    "k_values = list(range(2,15))\n",
    "\n",
    "# create a scaler object for standardizing the features in the data\n",
    "scaler = StandardScaler()\n",
    "\n",
    "# create an array of variances using the inertia function in the K MEans model\n",
    "variances = [KMeans(k).fit(scaler.fit_transform(X_train)).inertia_ for k in k_values]"
   ]
  },
  {
   "cell_type": "code",
   "execution_count": 31,
   "metadata": {
    "scrolled": true
   },
   "outputs": [
    {
     "data": {
      "image/png": "[encoded data removed]",
      "text/plain": [
       "<Figure size 576x288 with 1 Axes>"
      ]
     },
     "metadata": {
      "needs_background": "light"
     },
     "output_type": "display_data"
    }
   ],
   "source": [
    "# visualise and look for 'kink' or 'elbow' in the graph\n",
    "plt.figure(figsize=(8,4))\n",
    "sns.lineplot(x=k_values, y=variances)\n",
    "plt.xlabel(\"K\")\n",
    "plt.ylabel(\"Variances\")\n",
    "plt.grid(alpha=0.5)\n",
    "plt.show()"
   ]
  },
  {
   "cell_type": "markdown",
   "metadata": {},
   "source": [
    "Perhaps a value for k of 5 or 6 would be a sensible choice based on this result although it is somewhat subjective. It is worth noting that there are other, potentially more advanced methods that can also be used to help choose the correct value of k such as the [silhouette score](https://scikit-learn.org/stable/modules/generated/sklearn.metrics.silhouette_score.html)."
   ]
  },
  {
   "cell_type": "code",
   "execution_count": 32,
   "metadata": {},
   "outputs": [],
   "source": [
    "# Create the model with 6 clusters\n",
    "KMeans_model = KMeans(n_clusters=6,random_state=42)"
   ]
  },
  {
   "cell_type": "code",
   "execution_count": 33,
   "metadata": {},
   "outputs": [
    {
     "data": {
      "text/plain": [
       "KMeans(n_clusters=6, random_state=42)"
      ]
     },
     "execution_count": 33,
     "metadata": {},
     "output_type": "execute_result"
    }
   ],
   "source": [
    "# Fit the Model\n",
    "KMeans_model.fit(scaler.fit_transform(X_train))"
   ]
  },
  {
   "cell_type": "code",
   "execution_count": 34,
   "metadata": {},
   "outputs": [
    {
     "data": {
      "text/html": [
       "<div>\n",
       "<style scoped>\n",
       "    .dataframe tbody tr th:only-of-type {\n",
       "        vertical-align: middle;\n",
       "    }\n",
       "\n",
       "    .dataframe tbody tr th {\n",
       "        vertical-align: top;\n",
       "    }\n",
       "\n",
       "    .dataframe thead th {\n",
       "        text-align: right;\n",
       "    }\n",
       "</style>\n",
       "<table border=\"1\" class=\"dataframe\">\n",
       "  <thead>\n",
       "    <tr style=\"text-align: right;\">\n",
       "      <th></th>\n",
       "      <th>OverallQual</th>\n",
       "      <th>GrLivArea</th>\n",
       "      <th>GarageCars</th>\n",
       "      <th>GarageArea</th>\n",
       "      <th>TotalBsmtSF</th>\n",
       "      <th>1stFlrSF</th>\n",
       "      <th>FullBath</th>\n",
       "      <th>TotRmsAbvGrd</th>\n",
       "      <th>YearBuilt</th>\n",
       "      <th>cluster</th>\n",
       "    </tr>\n",
       "  </thead>\n",
       "  <tbody>\n",
       "    <tr>\n",
       "      <th>565</th>\n",
       "      <td>6</td>\n",
       "      <td>1647</td>\n",
       "      <td>1</td>\n",
       "      <td>216</td>\n",
       "      <td>806</td>\n",
       "      <td>841</td>\n",
       "      <td>1</td>\n",
       "      <td>6</td>\n",
       "      <td>1915</td>\n",
       "      <td>1</td>\n",
       "    </tr>\n",
       "    <tr>\n",
       "      <th>262</th>\n",
       "      <td>6</td>\n",
       "      <td>1212</td>\n",
       "      <td>2</td>\n",
       "      <td>492</td>\n",
       "      <td>506</td>\n",
       "      <td>1212</td>\n",
       "      <td>1</td>\n",
       "      <td>6</td>\n",
       "      <td>1977</td>\n",
       "      <td>0</td>\n",
       "    </tr>\n",
       "    <tr>\n",
       "      <th>1090</th>\n",
       "      <td>3</td>\n",
       "      <td>1040</td>\n",
       "      <td>2</td>\n",
       "      <td>400</td>\n",
       "      <td>0</td>\n",
       "      <td>1040</td>\n",
       "      <td>2</td>\n",
       "      <td>6</td>\n",
       "      <td>1950</td>\n",
       "      <td>0</td>\n",
       "    </tr>\n",
       "    <tr>\n",
       "      <th>711</th>\n",
       "      <td>4</td>\n",
       "      <td>1178</td>\n",
       "      <td>1</td>\n",
       "      <td>384</td>\n",
       "      <td>859</td>\n",
       "      <td>859</td>\n",
       "      <td>1</td>\n",
       "      <td>7</td>\n",
       "      <td>1900</td>\n",
       "      <td>1</td>\n",
       "    </tr>\n",
       "    <tr>\n",
       "      <th>795</th>\n",
       "      <td>6</td>\n",
       "      <td>1564</td>\n",
       "      <td>2</td>\n",
       "      <td>476</td>\n",
       "      <td>650</td>\n",
       "      <td>888</td>\n",
       "      <td>2</td>\n",
       "      <td>7</td>\n",
       "      <td>1980</td>\n",
       "      <td>5</td>\n",
       "    </tr>\n",
       "  </tbody>\n",
       "</table>\n",
       "</div>"
      ],
      "text/plain": [
       "      OverallQual  GrLivArea  GarageCars  GarageArea  TotalBsmtSF  1stFlrSF  \\\n",
       "565             6       1647           1         216          806       841   \n",
       "262             6       1212           2         492          506      1212   \n",
       "1090            3       1040           2         400            0      1040   \n",
       "711             4       1178           1         384          859       859   \n",
       "795             6       1564           2         476          650       888   \n",
       "\n",
       "      FullBath  TotRmsAbvGrd  YearBuilt  cluster  \n",
       "565          1             6       1915        1  \n",
       "262          1             6       1977        0  \n",
       "1090         2             6       1950        0  \n",
       "711          1             7       1900        1  \n",
       "795          2             7       1980        5  "
      ]
     },
     "execution_count": 34,
     "metadata": {},
     "output_type": "execute_result"
    }
   ],
   "source": [
    "# add our cluster labels as a new column to our original training set features\n",
    "X_train['cluster'] = KMeans_model.labels_\n",
    "X_train.head()"
   ]
  },
  {
   "cell_type": "code",
   "execution_count": 36,
   "metadata": {},
   "outputs": [
    {
     "data": {
      "image/png": "[encoded data removed]",
      "text/plain": [
       "<Figure size 864x360 with 1 Axes>"
      ]
     },
     "metadata": {
      "needs_background": "light"
     },
     "output_type": "display_data"
    }
   ],
   "source": [
    "# # plot the predicted price vs residuals\n",
    "# plt.figure  (figsize=(12, 5))\n",
    "# plt.scatter(y_train, X_train['cluster'], alpha=1, linewidths=0.5, \n",
    "#             edgecolors='black')\n",
    "# plt.plot([0,600000],[0,0], color='darkred', alpha=0.5)\n",
    "# plt.xlabel('Predicted SalePrice')\n",
    "# plt.ylabel('Residual')\n",
    "# plt.grid(alpha=0.5)\n",
    "# plt.show()"
   ]
  },
  {
   "cell_type": "code",
   "execution_count": null,
   "metadata": {},
   "outputs": [],
   "source": []
  }
 ],
 "metadata": {
  "kernelspec": {
   "display_name": "Python 3 (ipykernel)",
   "language": "python",
   "name": "python3"
  },
  "language_info": {
   "codemirror_mode": {
    "name": "ipython",
    "version": 3
   },
   "file_extension": ".py",
   "mimetype": "text/x-python",
   "name": "python",
   "nbconvert_exporter": "python",
   "pygments_lexer": "ipython3",
   "version": "3.10.1"
  }
 },
 "nbformat": 4,
 "nbformat_minor": 2
}
