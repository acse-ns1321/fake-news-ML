{
 "cells": [
  {
   "cell_type": "code",
   "execution_count": 67,
   "id": "55e52956",
   "metadata": {},
   "outputs": [
    {
     "name": "stdout",
     "output_type": "stream",
     "text": [
      "No GPU available!\n"
     ]
    }
   ],
   "source": [
    "from sklearn.metrics import accuracy_score\n",
    "from sklearn.model_selection import StratifiedShuffleSplit\n",
    "\n",
    "from livelossplot import PlotLosses\n",
    "from pycm import *\n",
    "\n",
    "import torch\n",
    "import torch.nn as nn\n",
    "import torch.nn.functional as F\n",
    "from torch.utils.data import TensorDataset, DataLoader\n",
    "import torchvision.transforms as transforms\n",
    "from torchvision.datasets import MNIST\n",
    "from torchsummary import summary\n",
    "import matplotlib.pyplot as plt\n",
    "import random\n",
    "import numpy as np\n",
    "\n",
    "def set_seed(seed):\n",
    "    \"\"\"\n",
    "    Use this to set ALL the random seeds to a fixed value and take out any randomness from cuda kernels\n",
    "    \"\"\"\n",
    "    random.seed(seed)\n",
    "    np.random.seed(seed)\n",
    "    torch.manual_seed(seed)\n",
    "    torch.cuda.manual_seed_all(seed)\n",
    "\n",
    "    torch.backends.cudnn.benchmark = False  ##uses the inbuilt cudnn auto-tuner to find the fastest convolution algorithms. -\n",
    "    torch.backends.cudnn.enabled   = False\n",
    "\n",
    "    return True\n",
    "\n",
    "device = 'cpu'\n",
    "if torch.cuda.device_count() > 0 and torch.cuda.is_available():\n",
    "    print(\"Cuda installed! Running on GPU!\")\n",
    "    device = 'cuda'\n",
    "else:\n",
    "    print(\"No GPU available!\")"
   ]
  },
  {
   "cell_type": "markdown",
   "id": "0789f96b",
   "metadata": {},
   "source": [
    "# Initial Steps\n",
    "\n",
    "- Download the dataset \n",
    "- Split the Data - get the train validation and test - indices and data and labels\n",
    "- Create Standardization function\n",
    "- Apply Standardizarion\n",
    "- Create tensorDatasets - TensorDataset to be able to operate on the dataset without having to load it all in memory\n",
    "\n",
    "- Making the ML Functions :\n",
    "    - Training Function \n",
    "    - Validation Function\n",
    "    - Evaluate Function\n",
    "    \n",
    "- Set the Hyper Parameters\n",
    "        - Seed\n",
    "        - learning rate\n",
    "        - Optimize\n",
    "        - momentum\n",
    "        - Number of Epochs\n",
    "        - Batchsize\n",
    "        - Test Batch Size \n",
    "        - Shuffle the training set every epoch: Yes/No?\n",
    "        \n",
    "- Instantiate the model, optimizer and losses\n",
    "\n",
    "- Perform the Training "
   ]
  },
  {
   "cell_type": "code",
   "execution_count": 56,
   "id": "5cbba3b4",
   "metadata": {},
   "outputs": [],
   "source": [
    "# Downlaod the MNIST Data set\n",
    "mnist_train = MNIST(\"./\", download= True, train = True)\n",
    "mnist_test = MNIST(\"./\", download=True, train = True)"
   ]
  },
  {
   "cell_type": "code",
   "execution_count": 57,
   "id": "a9335233",
   "metadata": {},
   "outputs": [
    {
     "name": "stderr",
     "output_type": "stream",
     "text": [
      "C:\\Users\\Niranjana\\AppData\\Local\\Programs\\Python\\Python310\\lib\\site-packages\\torchvision\\datasets\\mnist.py:75: UserWarning: train_data has been renamed data\n",
      "  warnings.warn(\"train_data has been renamed data\")\n",
      "C:\\Users\\Niranjana\\AppData\\Local\\Programs\\Python\\Python310\\lib\\site-packages\\torchvision\\datasets\\mnist.py:65: UserWarning: train_labels has been renamed targets\n",
      "  warnings.warn(\"train_labels has been renamed targets\")\n"
     ]
    }
   ],
   "source": [
    "# Split the Data \n",
    "shuffler = StratifiedShuffleSplit(n_splits=1, test_size=0.1,random_state=42).split(mnist_train.train_data, mnist_train.train_labels)\n",
    "indices = [(train_idx, validation_idx) for train_idx, validation_idx in shuffler][0]"
   ]
  },
  {
   "cell_type": "code",
   "execution_count": 58,
   "id": "b999750a",
   "metadata": {},
   "outputs": [],
   "source": [
    "# Standardization function\n",
    "\n",
    "def apply_standardization(X):\n",
    "    X/=255\n",
    "    X -= 0.1307\n",
    "    X/= 0.3081\n",
    "    return X\n"
   ]
  },
  {
   "cell_type": "code",
   "execution_count": 59,
   "id": "a920afd9",
   "metadata": {},
   "outputs": [
    {
     "name": "stderr",
     "output_type": "stream",
     "text": [
      "C:\\Users\\Niranjana\\AppData\\Local\\Programs\\Python\\Python310\\lib\\site-packages\\torchvision\\datasets\\mnist.py:75: UserWarning: train_data has been renamed data\n",
      "  warnings.warn(\"train_data has been renamed data\")\n",
      "C:\\Users\\Niranjana\\AppData\\Local\\Programs\\Python\\Python310\\lib\\site-packages\\torchvision\\datasets\\mnist.py:65: UserWarning: train_labels has been renamed targets\n",
      "  warnings.warn(\"train_labels has been renamed targets\")\n",
      "C:\\Users\\Niranjana\\AppData\\Local\\Programs\\Python\\Python310\\lib\\site-packages\\torchvision\\datasets\\mnist.py:80: UserWarning: test_data has been renamed data\n",
      "  warnings.warn(\"test_data has been renamed data\")\n",
      "C:\\Users\\Niranjana\\AppData\\Local\\Programs\\Python\\Python310\\lib\\site-packages\\torchvision\\datasets\\mnist.py:70: UserWarning: test_labels has been renamed targets\n",
      "  warnings.warn(\"test_labels has been renamed targets\")\n"
     ]
    }
   ],
   "source": [
    "# Standardize the data\n",
    "X_train, y_train = apply_standardization(mnist_train.train_data[indices[0]].float()), mnist_train.train_labels[indices[0]]\n",
    "X_val, y_val = apply_standardization(mnist_train.train_data[indices[1]].float()),mnist_train.train_labels[indices[1]]\n",
    "\n",
    "X_test,y_test = apply_standardization(mnist_test.test_data.float()),mnist_test.test_labels\n"
   ]
  },
  {
   "cell_type": "code",
   "execution_count": 60,
   "id": "de0a85da",
   "metadata": {},
   "outputs": [],
   "source": [
    "# Create TorchTensor Datasets containing mnist_train, mnist_test, mnist_validate\n",
    "\n",
    "mnist_train = TensorDataset(X_train, y_train.long())\n",
    "mnist_validate = TensorDataset(X_val, y_val.long())\n",
    "mnist_test = TensorDataset(X_test, y_test.long())\n"
   ]
  },
  {
   "cell_type": "code",
   "execution_count": 61,
   "id": "819079c5",
   "metadata": {},
   "outputs": [
    {
     "name": "stdout",
     "output_type": "stream",
     "text": [
      "tensor(0.0001) tensor(1.0003)\n"
     ]
    },
    {
     "data": {
      "image/png": "[encoded data removed]",
      "text/plain": [
       "<Figure size 432x288 with 1 Axes>"
      ]
     },
     "metadata": {
      "needs_background": "light"
     },
     "output_type": "display_data"
    }
   ],
   "source": [
    "# Visualize the dataset\n",
    "plt.imshow(X_train[50000], cmap = \"gray\")\n",
    "print(X_train.mean(), X_train.std())"
   ]
  },
  {
   "cell_type": "code",
   "execution_count": 69,
   "id": "4e699908",
   "metadata": {},
   "outputs": [
    {
     "name": "stdout",
     "output_type": "stream",
     "text": [
      "tensor([[ 0.0308,  0.0938, -0.1437,  0.0305,  0.0357, -0.0449, -0.0016, -0.1339,\n",
      "          0.0230, -0.0844]], grad_fn=<AddmmBackward0>)\n",
      "LeNet5(\n",
      "  (c1): Conv2d(1, 6, kernel_size=(5, 5), stride=(1, 1), padding=(2, 2))\n",
      "  (s2): MaxPool2d(kernel_size=2, stride=2, padding=0, dilation=1, ceil_mode=False)\n",
      "  (c3): Conv2d(6, 16, kernel_size=(5, 5), stride=(1, 1))\n",
      "  (s4): MaxPool2d(kernel_size=2, stride=2, padding=0, dilation=1, ceil_mode=False)\n",
      "  (c5): Linear(in_features=400, out_features=120, bias=True)\n",
      "  (f6): Linear(in_features=120, out_features=84, bias=True)\n",
      "  (output): Linear(in_features=84, out_features=10, bias=True)\n",
      "  (act): ReLU()\n",
      ")\n"
     ]
    }
   ],
   "source": [
    "class LeNet5(nn.Module):\n",
    "  def __init__(self):\n",
    "    super(LeNet5, self).__init__()\n",
    "    self.c1 = nn.Conv2d(1, 6, kernel_size=5, stride=1, padding=2) # define a 2D convolutional layer\n",
    "    self.s2 = nn.MaxPool2d(kernel_size=2, stride=2)               # define a maxpool layer\n",
    "    self.c3 = nn.Conv2d(6, 16, kernel_size=5, stride=1)           # new 2D convolutional layer\n",
    "    self.s4 = nn.MaxPool2d(kernel_size=2, stride=2)               # another maxpool layer\n",
    "    self.c5 = nn.Linear(16*5*5, 120)                              # first linear layer\n",
    "    self.f6 = nn.Linear(120, 84)                                  # second linear layer\n",
    "    self.output = nn.Linear(84, 10)                               # final output layer\n",
    "    self.act = nn.ReLU()                                          # activation function\n",
    "    \n",
    "  def forward(self, x):\n",
    "    x = self.act(self.c1(x))                                      # activate pass through the first layer\n",
    "    x = self.act(self.s2(x))                                      # activate pass through the second layer\n",
    "    x = self.act(self.c3(x))                                      # activate pass through the third layer\n",
    "    x = self.act(self.s4(x))                                      # activate pass through the fourth layer\n",
    "    x = x.view(-1, x.size(1)*x.size(2)*x.size(3))                 # flatten (return a \"flattened\" view of the 3d tensor as inputs for the fully connected layer)\n",
    "    x = self.act(self.c5(x))                                      # activate pass through fifth layer\n",
    "    x = self.act(self.f6(x))                                      # activate pass through last layer\n",
    "    return self.output(x)                                         # return output\n",
    "  \n",
    "x = torch.randn((1, 1, 28, 28))\n",
    "model = LeNet5()\n",
    "y = model(x)\n",
    "print(y)\n",
    "print(model)"
   ]
  },
  {
   "cell_type": "markdown",
   "id": "6d13e468",
   "metadata": {},
   "source": [
    "# Training Function"
   ]
  },
  {
   "cell_type": "code",
   "execution_count": 71,
   "id": "9e82b1f7",
   "metadata": {},
   "outputs": [],
   "source": [
    "def train(model, optimizer, criterion, data_loader):\n",
    "    # Set it to train mode\n",
    "    model.train()\n",
    "    \n",
    "    # Initialize the training loss and training accuracy\n",
    "    train_loss, train_accuracy = 0, 0\n",
    "    \n",
    "    # Load the X and Y variables using the dataloader\n",
    "    for X, y in data_loader:\n",
    "        # ------------------------------------------------\n",
    "        # Send the variables to the GPU\n",
    "        X,y = X.to(device), y.to(device)\n",
    "        \n",
    "        # Set the gradient to zero \n",
    "        optimizer.zero_grad()\n",
    "        \n",
    "        # ------------------------------------------------\n",
    "        # Convolutional forward function\n",
    "        a2 = model(X.view(-1,1,28,28))\n",
    "        \n",
    "        # Loss criterion\n",
    "        loss = criterion(a2, y)\n",
    "        \n",
    "        # Calculate the Backward gradient\n",
    "        loss.backward()\n",
    "        \n",
    "        # ------------------------------------------------\n",
    "        # Loss, Probability, Accuracy\n",
    "        #-------------------------------------------------\n",
    "        # Find the training loss\n",
    "        train_loss + loss*X.size(0)\n",
    "        \n",
    "        # Find the output of the of the softmax function\n",
    "        y_pred = F.log_softmax(a2, dim= 1).max(1)[1]\n",
    "        \n",
    "        # Train Accuracy\n",
    "        train_accuracy += accuracy_score(y.cpu().numpy(),y_pred.detach().cpu().numpy())*x.size(0)\n",
    "        # Update the Values\n",
    "        optimizer.step()\n",
    "    \n",
    "    # return the train loss and train accracy\n",
    "    return train_loss/len(data_loader.dataset), train_accuracy/len(data_loader.dataset)\n",
    "        "
   ]
  },
  {
   "cell_type": "markdown",
   "id": "7bb31e2b",
   "metadata": {},
   "source": [
    "# Validation Function"
   ]
  },
  {
   "cell_type": "code",
   "execution_count": 72,
   "id": "680fb227",
   "metadata": {},
   "outputs": [],
   "source": [
    "def validate(model, criterion, data_loader):\n",
    "    \n",
    "    # Run the model in evaluate mode\n",
    "    model.eval()\n",
    "    \n",
    "    # Initialize the validation loss and accuracy\n",
    "    validation_loss, validation_accuracy = 0., 0.\n",
    "    \n",
    "    # extract the data from the dataloader\n",
    "    for X, y in data_loader:\n",
    "        \n",
    "        # do not calculate the gradients\n",
    "        with torch.no_grad():\n",
    "            \n",
    "            # Send the variables to the GPU\n",
    "            X, y = X.to(device), y.to(device)\n",
    "            \n",
    "            # Convoltuional Forward Pass \n",
    "            a2 = model(X.view(-1, 1, 28, 28))\n",
    "            \n",
    "            # Set the loss criterion\n",
    "            loss = criterion(a2, y)\n",
    "            \n",
    "            # Calculate the validation loss\n",
    "            validation_loss += loss*X.size(0)\n",
    "            \n",
    "            # Find the probabilities usng softmax function\n",
    "            y_pred = F.log_softmax(a2, dim=1).max(1)[1]\n",
    "            validation_accuracy += accuracy_score(y.cpu().numpy(), y_pred.cpu().numpy())*X.size(0)\n",
    "    \n",
    "    # return the non- noramalized version of the losses        \n",
    "    return validation_loss/len(data_loader.dataset), validation_accuracy/len(data_loader.dataset)\n",
    " "
   ]
  },
  {
   "cell_type": "markdown",
   "id": "82a86185",
   "metadata": {},
   "source": [
    "# Evaluate Function"
   ]
  },
  {
   "cell_type": "code",
   "execution_count": 73,
   "id": "4b9a6d77",
   "metadata": {},
   "outputs": [],
   "source": [
    "def evaluate(model, data_loader):\n",
    "    # Load the model in the training mode\n",
    "    model.eval()\n",
    "    \n",
    "    # Array to save the original and evaluated/predicted ys\n",
    "    ys, y_preds = [], []\n",
    "    \n",
    "    for X, y in data_loader:\n",
    "        # Dont calculate the gradients for evaluate mode\n",
    "        with torch.no_grad():\n",
    "            # Load variables into the gpu\n",
    "            X, y = X.to(device), y.to(device)\n",
    "            \n",
    "            # calculate a forward pass\n",
    "            a2 = model(X.view(-1,1,28,28))\n",
    "            \n",
    "            # Find the probabilities using a softmax function\n",
    "            y_pred = F.log_softmax(a2, dim=1).max(1)[1]\n",
    "            \n",
    "            # Append the y_pred and the original y's\n",
    "            ys.append(y.cpu().numpy())\n",
    "            y_preds.apprend(y_pred.cpu(). numpy())\n",
    "            \n",
    "            \n",
    "    return  np.concatenate(y_preds, 0), np.concatenate(ys,0)\n",
    "            \n",
    "            \n",
    "    "
   ]
  },
  {
   "cell_type": "markdown",
   "id": "53046f34",
   "metadata": {},
   "source": [
    "# Set the HyperParameters\n",
    "\n",
    "- Seed: 42\n",
    "- learning rate: 1e-2\n",
    "- Optimizer: SGD\n",
    "- momentum: 0.9\n",
    "- Number of Epochs: 30\n",
    "- Batchsize: 64\n",
    "- Test Batch Size (no effect on training apart from time): 1000\n",
    "- Shuffle the training set every epoch: Yes"
   ]
  },
  {
   "cell_type": "code",
   "execution_count": 74,
   "id": "ff162c9e",
   "metadata": {},
   "outputs": [],
   "source": [
    "\n",
    "# Seed, learning rate , momentum , batch size, test batch size, epochs \n",
    "seed = 42\n",
    "lr = 1e-2\n",
    "momentum = 0.5\n",
    "batch_size = 64\n",
    "test_batch_size = 1000\n",
    "n_epochs = 30"
   ]
  },
  {
   "cell_type": "markdown",
   "id": "57767a24",
   "metadata": {},
   "source": [
    "# Instantiate the model, optimizer and loss function"
   ]
  },
  {
   "cell_type": "code",
   "execution_count": null,
   "id": "70f7f500",
   "metadata": {},
   "outputs": [
    {
     "data": {
      "image/png": "[encoded data removed]",
      "text/plain": [
       "<Figure size 864x576 with 2 Axes>"
      ]
     },
     "metadata": {
      "needs_background": "light"
     },
     "output_type": "display_data"
    },
    {
     "name": "stdout",
     "output_type": "stream",
     "text": [
      "accuracy\n",
      "\ttraining         \t (min:    0.013, max:    0.016, cur:    0.016)\n",
      "\tvalidation       \t (min:    0.951, max:    0.988, cur:    0.988)\n",
      "log loss\n",
      "\ttraining         \t (min:    0.000, max:    0.000, cur:    0.000)\n",
      "\tvalidation       \t (min:    0.050, max:    0.166, cur:    0.053)\n"
     ]
    }
   ],
   "source": [
    "# Function to train the model with momentum as the hyperparameter\n",
    "def train_model(momentum):\n",
    "    \n",
    "    \n",
    "    # Set the seed\n",
    "    set_seed(seed)\n",
    "    # -------------------------------------------------\n",
    "    # MODEL, OPTIMIZER, LOSS\n",
    "    # ----------------------------------------------------\n",
    "    # Instantiate the model\n",
    "    model = LeNet5().to(device)\n",
    "    \n",
    "    # Select the optimizer\n",
    "    optimizer = torch.optim.SGD(model.parameters(), lr=lr, momentum=momentum)\n",
    "    \n",
    "    # Select the loss function\n",
    "    criterion = nn.CrossEntropyLoss()\n",
    "    \n",
    "    # ----------------------------------------------------\n",
    "    # Create a train_loader \n",
    "    train_loader = DataLoader(mnist_train, batch_size=batch_size, shuffle=True, num_workers=0)\n",
    "    \n",
    "    # Create a validation loader\n",
    "    validation_loader = DataLoader(mnist_validate, batch_size=test_batch_size, shuffle=False, num_workers=0)\n",
    "\n",
    "    # Create a test loader\n",
    "    test_loader = DataLoader(mnist_test, batch_size=test_batch_size, shuffle=False, num_workers=0)\n",
    "    \n",
    "    # --------------------------------------------------------------------\n",
    "    # Instantiate liveloss with plotloss\n",
    "    liveloss = PlotLosses()\n",
    "    \n",
    "    # Train for 30 epochs \n",
    "    for epoch in range(30):\n",
    "        # Save the logs in a dict\n",
    "        logs = {}\n",
    "        \n",
    "        # ------------------------------------\n",
    "        # Call the training function on the defined model. loss and opimiaer functions\n",
    "        train_loss , train_accuracy = train(model, optimizer, criterion, train_loader)\n",
    "        \n",
    "        # Add training log loss and accuracy to the logs\n",
    "        logs['' + 'log loss'] = train_loss\n",
    "        logs['' + 'accuracy'] = train_accuracy\n",
    "        # ----------------------------------------------------\n",
    "        #  Call the validation function\n",
    "        validation_loss , validation_accuracy = validate(model, criterion, validation_loader)\n",
    "        # Add validation log loss and accuracy to the logs\n",
    "        logs['val_' + 'log loss'] = validation_loss\n",
    "        logs['val_' + 'accuracy'] = validation_accuracy\n",
    "        \n",
    "        \n",
    "        # Update the liveloss with the logs\n",
    "        liveloss.update(logs)\n",
    "      \n",
    "        # Draw the live loss plot\n",
    "        liveloss.draw()\n",
    "    return model\n",
    "\n",
    "\n",
    "# call the trianing model\n",
    "model = train_model(0.5)\n",
    "    "
   ]
  },
  {
   "cell_type": "code",
   "execution_count": null,
   "id": "4b3da77e",
   "metadata": {},
   "outputs": [],
   "source": []
  },
  {
   "cell_type": "code",
   "execution_count": null,
   "id": "891df3f5",
   "metadata": {},
   "outputs": [],
   "source": []
  }
 ],
 "metadata": {
  "kernelspec": {
   "display_name": "Python 3 (ipykernel)",
   "language": "python",
   "name": "python3"
  },
  "language_info": {
   "codemirror_mode": {
    "name": "ipython",
    "version": 3
   },
   "file_extension": ".py",
   "mimetype": "text/x-python",
   "name": "python",
   "nbconvert_exporter": "python",
   "pygments_lexer": "ipython3",
   "version": "3.10.1"
  }
 },
 "nbformat": 4,
 "nbformat_minor": 5
}
