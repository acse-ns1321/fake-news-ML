{
 "cells": [
  {
   "cell_type": "code",
   "execution_count": 2,
   "id": "11471bc8",
   "metadata": {},
   "outputs": [
    {
     "name": "stdout",
     "output_type": "stream",
     "text": [
      "Collecting torchsummary\n",
      "  Downloading torchsummary-1.5.1-py3-none-any.whl (2.8 kB)\n",
      "Installing collected packages: torchsummary\n"
     ]
    },
    {
     "name": "stderr",
     "output_type": "stream",
     "text": [
      "WARNING: You are using pip version 22.0.4; however, version 22.1 is available.\n",
      "You should consider upgrading via the 'C:\\Users\\Niranjana\\AppData\\Local\\Programs\\Python\\Python310\\python.exe -m pip install --upgrade pip' command.\n"
     ]
    },
    {
     "name": "stdout",
     "output_type": "stream",
     "text": [
      "Successfully installed torchsummary-1.5.1\n"
     ]
    }
   ],
   "source": [
    "!pip install torchsummary"
   ]
  },
  {
   "cell_type": "code",
   "execution_count": 3,
   "id": "103ca565",
   "metadata": {},
   "outputs": [],
   "source": [
    "# Imports\n",
    "from sklearn.metrics import accuracy_score\n",
    "from sklearn.model_selection import StratifiedShuffleSplit\n",
    "\n",
    "from livelossplot import PlotLosses\n",
    "from pycm import *\n",
    "\n",
    "import torch\n",
    "import torch.nn as nn\n",
    "import torch.nn.functional as F\n",
    "from torch.utils.data import TensorDataset, DataLoader\n",
    "import torchvision.transforms as transforms\n",
    "from torchvision.datasets import MNIST\n",
    "from torchsummary import summary\n"
   ]
  },
  {
   "cell_type": "markdown",
   "id": "97ef4ab5",
   "metadata": {},
   "source": [
    "# LeNet Implementation\n",
    "\n",
    "![](https://www.researchgate.net/profile/Vladimir_Golovko3/publication/313808170/figure/fig3/AS:552880910618630@1508828489678/Architecture-of-LeNet-5.png)\n"
   ]
  },
  {
   "cell_type": "markdown",
   "id": "1908580c",
   "metadata": {},
   "source": [
    "Here\n",
    "\n",
    "- Input size = 32x32 therefore there must be some padding on the first convolutional neural network\n",
    "\n",
    "- All the convolutional layers have \n",
    "        - kernal size = 5\n",
    "        - stride = 1\n",
    "        - padding = 2\n",
    "- Max Pool Layers use kernal size =2 and stride value of 2\n",
    "\n",
    "- Use ReLu for all activations\n",
    "- Use bias term as a default \n"
   ]
  },
  {
   "cell_type": "code",
   "execution_count": 13,
   "id": "f6b43fbb",
   "metadata": {},
   "outputs": [
    {
     "name": "stdout",
     "output_type": "stream",
     "text": [
      "tensor([[-0.0267, -0.1553, -0.0206,  0.0578, -0.0169,  0.0783,  0.0277, -0.0157,\n",
      "          0.1612,  0.0241]], grad_fn=<AddmmBackward0>)\n",
      "LeNet5(\n",
      "  (c1): Conv2d(1, 1, kernel_size=(3, 3), stride=(1, 1), padding=(1, 1), bias=False)\n",
      "  (s2): MaxPool2d(kernel_size=2, stride=2, padding=0, dilation=1, ceil_mode=False)\n",
      "  (c3): Conv2d(1, 16, kernel_size=(5, 5), stride=(1, 1))\n",
      "  (s4): MaxPool2d(kernel_size=2, stride=2, padding=0, dilation=1, ceil_mode=False)\n",
      "  (c5): Linear(in_features=400, out_features=120, bias=True)\n",
      "  (f6): Linear(in_features=120, out_features=84, bias=True)\n",
      "  (output): Linear(in_features=84, out_features=10, bias=True)\n",
      "  (act): ReLU()\n",
      ")\n"
     ]
    }
   ],
   "source": [
    "class LeNet5(nn.Module):\n",
    "    def __init__(self):\n",
    "        super(LeNet5, self).__init__()\n",
    "        # 1st : convolutional layer\n",
    "        self.c1 = nn.Conv2d(1,1 , kernel_size=3, stride=1,padding=1, bias= False)\n",
    "        # 2nd : pooling layer\n",
    "        self.s2 = nn.MaxPool2d(kernel_size=2, stride=2)\n",
    "        # 3rd : convolutional layer \n",
    "        self.c3 = nn.Conv2d(1,16, kernel_size = 5, stride = 1)\n",
    "        # 4th : pooling layer\n",
    "        self.s4 = nn.MaxPool2d(kernel_size=2, stride=2)\n",
    "        # 5th : Linear Layer\n",
    "        self.c5 = nn.Linear(16*5*5, 120)\n",
    "        # 6th : Linear Layer \n",
    "        self.f6 = nn.Linear(120,84)\n",
    "        \n",
    "        # Final output layer \n",
    "        self.output = nn.Linear(84,10)\n",
    "        \n",
    "        # Activation Layer \n",
    "        self.act = nn.ReLU()\n",
    "        \n",
    "        \n",
    "    def forward(self, x):\n",
    "        # activate pass through the first layer\n",
    "        x = self.act(self.c1(x))\n",
    "        # Activate pass through the second layer\n",
    "        x = self.act(self.s2(x))\n",
    "        # Activate pass through the third layer\n",
    "        x = self.act(self.c3(x))\n",
    "        # Activate pass through the fourth layer\n",
    "        x = self.act(self.s4(x))\n",
    "        # Change the shape to make it a suitable input for the Linear Layer\n",
    "        x = x.view(-1, x.size(1)*x.size(2)*x.size(3))\n",
    "        # Activate Layer 5\n",
    "        x = self.act(self.c5(x))\n",
    "        # Activate Layer 5\n",
    "        x = self.act(self.f6(x))\n",
    "\n",
    "        return self.output(x)\n",
    "        # Since we're going to use a cross entropy function we do not activste the final data\n",
    "        \n",
    "# Create a random torch input\n",
    "x = torch.randn((1,1,28,28))\n",
    "\n",
    "# Instantiate the model\n",
    "model = LeNet5()\n",
    "\n",
    "# Call the model\n",
    "y = model(x)\n",
    "print(y)\n",
    "print(model)"
   ]
  },
  {
   "cell_type": "code",
   "execution_count": null,
   "id": "fa29f08b",
   "metadata": {},
   "outputs": [],
   "source": []
  }
 ],
 "metadata": {
  "kernelspec": {
   "display_name": "Python 3 (ipykernel)",
   "language": "python",
   "name": "python3"
  },
  "language_info": {
   "codemirror_mode": {
    "name": "ipython",
    "version": 3
   },
   "file_extension": ".py",
   "mimetype": "text/x-python",
   "name": "python",
   "nbconvert_exporter": "python",
   "pygments_lexer": "ipython3",
   "version": "3.10.1"
  }
 },
 "nbformat": 4,
 "nbformat_minor": 5
}
