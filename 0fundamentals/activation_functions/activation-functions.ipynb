{
 "cells": [
  {
   "cell_type": "markdown",
   "id": "49009a7b",
   "metadata": {},
   "source": [
    "# ACTIVATION FUNCTIONS\n",
    "\n",
    "\n",
    "\n",
    "## Types of Activation Functions\n",
    "\n",
    "- Sigmoid functions\n",
    "- tanh\n",
    "- ReLU\n",
    "- Softplus"
   ]
  },
  {
   "cell_type": "markdown",
   "id": "da7a412a",
   "metadata": {},
   "source": [
    "## SIGMOID FUNCTION\n",
    "\n",
    "The sigmoid function (aka the logistic function) takes any real value z and transforms it\n",
    "into a value between 0 and 1:\n",
    "\n",
    "Derivative of of the sigmoid given by\n",
    "\n",
    "$$\n",
    "        \\sigma(z) = \\frac{1}{(1+\\exp(-z))}\n",
    "$$\n",
    "is \n",
    "\n",
    "$$\n",
    "\\sigma'(z) = (1-\\sigma(z))\\sigma(z)\n",
    "$$"
   ]
  },
  {
   "cell_type": "markdown",
   "id": "b658a123",
   "metadata": {},
   "source": [
    "## Using the Sigmoid Function\n",
    "\n",
    "Take an output y from a regression equation with input x.\n",
    "\n",
    "Where y can take any positive or negative value. Applying the sigmoid function to y we get a value\n",
    "between 0 and 1, which we can interpret as the probability for the class to be 1:"
   ]
  },
  {
   "cell_type": "code",
   "execution_count": null,
   "id": "628b95f3",
   "metadata": {},
   "outputs": [],
   "source": []
  }
 ],
 "metadata": {
  "kernelspec": {
   "display_name": "Python 3 (ipykernel)",
   "language": "python",
   "name": "python3"
  },
  "language_info": {
   "codemirror_mode": {
    "name": "ipython",
    "version": 3
   },
   "file_extension": ".py",
   "mimetype": "text/x-python",
   "name": "python",
   "nbconvert_exporter": "python",
   "pygments_lexer": "ipython3",
   "version": "3.10.1"
  }
 },
 "nbformat": 4,
 "nbformat_minor": 5
}
