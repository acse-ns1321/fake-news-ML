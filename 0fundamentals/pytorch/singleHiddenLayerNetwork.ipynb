{
 "cells": [
  {
   "cell_type": "markdown",
   "id": "20923280",
   "metadata": {},
   "source": [
    "# Training a Neural Network with Pytorch"
   ]
  },
  {
   "cell_type": "markdown",
   "id": "913cd4c2",
   "metadata": {},
   "source": [
    "- 5.1: Define a SingleHiddenLayer Network as a pytorch module\n",
    "- 5.2: Define the cost function\n",
    "- 5.3: Setup the training function\n",
    "- 5.4: Setup a validation/testing function\n",
    "- 5.5: Create a training/validation/testing split of your data\n",
    "- 5.6: Iterate over your dataset (epoch) and train your network using the train() and validate() methods\n",
    "- 5.7: Make Predictions on the training and test set and plot the results"
   ]
  },
  {
   "cell_type": "code",
   "execution_count": null,
   "id": "fe7c2f36",
   "metadata": {},
   "outputs": [],
   "source": []
  },
  {
   "cell_type": "code",
   "execution_count": null,
   "id": "d48ca377",
   "metadata": {},
   "outputs": [],
   "source": [
    "from torch.utils.data import TensorDataset, DataLoader "
   ]
  },
  {
   "cell_type": "markdown",
   "id": "3c9197e8",
   "metadata": {},
   "source": [
    "## Define a SingleHiddenLayer Network as a pytorch module"
   ]
  },
  {
   "cell_type": "code",
   "execution_count": null,
   "id": "f0099cc4",
   "metadata": {},
   "outputs": [],
   "source": [
    "class SingleHiddenLayerNetwork(nn.Module):\n",
    "    def __init__(self, I, H, O):\n",
    "        super(SingleHiddenLayerNetwork, self).__init__()\n",
    "        self.hidden_1 = nn.Linear(I, H, bias=False)\n",
    "        self.output = nn.Linear(H, O, bias=False)\n",
    "        self.activation = nn.Sigmoid()\n",
    "        \n",
    "    def forward(self, X):\n",
    "        z1 = self.hidden_1(X)\n",
    "        a1 = self.activation(z1)\n",
    "        z2 = self.output(a1)\n",
    "        a2 = self.activation(z2)\n",
    "        return a2"
   ]
  },
  {
   "cell_type": "markdown",
   "id": "be6e3c1b",
   "metadata": {},
   "source": [
    "## Define the cost function"
   ]
  },
  {
   "cell_type": "code",
   "execution_count": null,
   "id": "9fa59fd6",
   "metadata": {},
   "outputs": [],
   "source": [
    "def bce_loss(y, a2):\n",
    "    return -1/y.size(0)*(y*a2.log()+(1-y)*(1-a2).log()).sum(0)"
   ]
  },
  {
   "cell_type": "markdown",
   "id": "22d8dc25",
   "metadata": {},
   "source": [
    "## Setup the training function"
   ]
  },
  {
   "cell_type": "code",
   "execution_count": null,
   "id": "22b84236",
   "metadata": {},
   "outputs": [],
   "source": [
    "def train(model, optimizer, data_loader):\n",
    "    model.train()\n",
    "    for X, y in data_loader:\n",
    "        optimizer.zero_grad()  # reset gradients\n",
    "        a2 = model(X)          # forward propagtion through the model\n",
    "        loss = bce_loss(y, a2) # compute loss\n",
    "        loss.backward()        # backpropagate\n",
    "        optimizer.step()       # update model parameters using the gradients\n",
    "    \n",
    "    y_pred = np.where(a2[:, 0].detach().numpy()>0.5, 1, 0)\n",
    "    accuracy = accuracy_score(y, y_pred)\n",
    "    return loss, accuracy"
   ]
  },
  {
   "cell_type": "code",
   "execution_count": null,
   "id": "4bf6311c",
   "metadata": {},
   "outputs": [],
   "source": [
    "Setup a validation/testing function"
   ]
  },
  {
   "cell_type": "code",
   "execution_count": null,
   "id": "7ee08fc2",
   "metadata": {},
   "outputs": [],
   "source": [
    "def evaluate(model, data_loader):  \n",
    "    model.eval()\n",
    "    for X, y in data_loader:\n",
    "        with torch.no_grad():\n",
    "            a2 = model(X)\n",
    "            loss = bce_loss(y, a2)\n",
    "    y_pred = np.where(a2[:, 0].numpy()>0.5, 1, 0)\n",
    "    accuracy = accuracy_score(y, y_pred)\n",
    "    return loss, accuracy"
   ]
  },
  {
   "cell_type": "markdown",
   "id": "0a71b462",
   "metadata": {},
   "source": [
    "## Create a training/validation/testing split of your data"
   ]
  },
  {
   "cell_type": "code",
   "execution_count": null,
   "id": "cfb70d59",
   "metadata": {},
   "outputs": [],
   "source": [
    "#Define the size of the input, hidden, and output layers\n",
    "I, H, O = 2, 4, 1\n",
    "\n",
    "#Use Sklearn to create two-moons + noise\n",
    "X_train, y_train, X_test, y_test = make_train_test(batch_size, batch_num, test_size, noise=0.2)\n",
    "\n",
    "#Define Train Set in Pytorch\n",
    "X_train = torch.from_numpy(X_train).float()[0] #Convert to torch tensor, single batch\n",
    "y_train = torch.from_numpy(y_train).float()[0] #Convert to torch tensor, single batch\n",
    "\n",
    "train_dataset = TensorDataset(X_train, y_train) # wrapper around dataset that helps DataLoader\n",
    "\n",
    "#Define Test Set in Pytorch\n",
    "X_test = torch.from_numpy(X_test).float() #Convert to torch tensor, already single batch\n",
    "y_test = torch.from_numpy(y_test).float() #Convert to torch tensor, already single batch\n",
    "\n",
    "test_dataset = TensorDataset(X_test, y_test)\n",
    "\n",
    "#Use Pytorch's functionality to load data in batches. Here we use full-batch training again.\n",
    "train_loader = DataLoader(train_dataset, batch_size=X_train.size(0), shuffle=True)\n",
    "test_loader = DataLoader(test_dataset, batch_size=X_test.size(0), shuffle=False)"
   ]
  },
  {
   "cell_type": "markdown",
   "id": "625194e3",
   "metadata": {},
   "source": [
    " ## Iterate over your dataset (epoch) and train your network using the train() and validate() methods"
   ]
  },
  {
   "cell_type": "code",
   "execution_count": null,
   "id": "26a87988",
   "metadata": {},
   "outputs": [],
   "source": [
    "network = SingleHiddenLayerNetwork(I, H, O)\n",
    "optim = torch.optim.SGD(network.parameters(), lr=1) # we can pass network.parameters to the optimiser\n",
    "                                                    # instead of passing an explicit list (useful for big networks)\n",
    "for i in range(1000):\n",
    "    train_loss, train_accuracy = train(network, optim, train_loader)\n",
    "    test_loss, test_accuracy = evaluate(network, test_loader)\n",
    "    \n",
    "    if i % 100 == 0:\n",
    "        print(\"Training Loss in epoch \"+str(i)+\": %1.2f\" % train_loss.item())\n",
    "        print(\"Training accuracy in epoch \"+str(i)+\": %1.2f\" % train_accuracy)\n",
    "        print(\"Test Loss in epoch \"+str(i)+\": %1.2f\" % test_loss.item())\n",
    "        print(\"Test accuracy in epoch \"+str(i)+\": %1.2f\" % test_accuracy, \"\\n\")"
   ]
  },
  {
   "cell_type": "markdown",
   "id": "b185aeca",
   "metadata": {},
   "source": [
    "## Make Predictions on the training and test set and plot the results"
   ]
  },
  {
   "cell_type": "code",
   "execution_count": null,
   "id": "2c9f37a0",
   "metadata": {},
   "outputs": [],
   "source": [
    "network.eval()   #   tell the network we are in evaluation mode (deactivates mini-batches, dropouts, etc)\n",
    "with torch.no_grad():    # deactivates the autograd engine (to not safe grads, etc)\n",
    "    a_train = network(X_train)\n",
    "    a_test = network(X_test)\n",
    "print(\"Test set accuracy: \", accuracy_score(y_test, np.where(a_test[:, 0].numpy()>0.5, 1, 0)))\n",
    "fig, ax = plt.subplots(1, 2, figsize=(12, 6))\n",
    "ax[0].scatter(X_train[:, 0], X_train[:, 1], c=np.where(a_train[:, 0].numpy()>0.5, 1, 0))\n",
    "ax[1].scatter(X_test[:, 0], X_test[:, 1], c=np.where(a_test[:, 0].numpy()>0.5, 1, 0))"
   ]
  },
  {
   "cell_type": "code",
   "execution_count": null,
   "id": "71bc000a",
   "metadata": {},
   "outputs": [],
   "source": []
  },
  {
   "cell_type": "code",
   "execution_count": null,
   "id": "e30d34bf",
   "metadata": {},
   "outputs": [],
   "source": []
  }
 ],
 "metadata": {
  "kernelspec": {
   "display_name": "Python 3 (ipykernel)",
   "language": "python",
   "name": "python3"
  },
  "language_info": {
   "codemirror_mode": {
    "name": "ipython",
    "version": 3
   },
   "file_extension": ".py",
   "mimetype": "text/x-python",
   "name": "python",
   "nbconvert_exporter": "python",
   "pygments_lexer": "ipython3",
   "version": "3.10.1"
  }
 },
 "nbformat": 4,
 "nbformat_minor": 5
}
